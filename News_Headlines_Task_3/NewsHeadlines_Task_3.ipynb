{
 "cells": [
  {
   "cell_type": "code",
   "execution_count": null,
   "id": "198f9e4d-f895-466f-9344-87f08c6f0cfd",
   "metadata": {},
   "outputs": [],
   "source": [
    "import time\n",
    "from selenium import webdriver\n",
    "from selenium.webdriver.common.by import By\n",
    "from selenium.webdriver.chrome.service import Service\n",
    "from selenium.common.exceptions import NoSuchElementException, TimeoutException"
   ]
  },
  {
   "cell_type": "code",
   "execution_count": 18,
   "id": "ddce11b1-b363-4c46-9a22-c198860c813c",
   "metadata": {},
   "outputs": [],
   "source": [
    "NEWS_URL = \"https://indianexpress.com/\"\n",
    "TOP_HEADLINES_OUTPUT_FILE = \"news_topheadlines.txt\"\n",
    "LATEST_HEADLINES_OUTPUT_FILE = \"news_latestheadlines.txt\"\n",
    "HEADLINE_FUllXPATH = \"/html/body/div[3]/div[6]/div/div[2]/div[5]\"  \n",
    "WAIT_TIME = 3"
   ]
  },
  {
   "cell_type": "code",
   "execution_count": 19,
   "id": "6ca02859-763c-4463-ac8c-06d0e00a1a90",
   "metadata": {},
   "outputs": [],
   "source": [
    "def save_to_file(headlines, filename,storyType):\n",
    "    \"\"\"Save list of headlines to a .txt file.\"\"\"\n",
    "    with open(filename, 'w', encoding='utf-8') as f:\n",
    "        f.write(f\"\\t\\t\\t\\t{storyType }\\n\")\n",
    "        for idx, title in enumerate(headlines, 1):\n",
    "            f.write(f\"{idx}. {title}\\n\")"
   ]
  },
  {
   "cell_type": "code",
   "execution_count": 43,
   "id": "664a0388-42bd-49b0-8d7c-cd590722cfa0",
   "metadata": {},
   "outputs": [],
   "source": [
    "driver = webdriver.Chrome(service = Service(\"C:/Driver/chromedriver.exe\"))\n",
    "time.sleep(WAIT_TIME)\n",
    "driver.get(NEWS_URL)\n",
    "time.sleep(WAIT_TIME)"
   ]
  },
  {
   "cell_type": "code",
   "execution_count": 44,
   "id": "717187de-d12d-4514-b53b-13a6b91f34d7",
   "metadata": {},
   "outputs": [
    {
     "data": {
      "text/plain": [
       "['TOP NEWS',\n",
       " 'ASIA CUP 2025',\n",
       " 'Pak vs Ban LIVE: Saim Ayub departs for 0',\n",
       " 'Lucknow man killed over interfaith relationship by woman’s brother after he was called to ‘discuss marriage’',\n",
       " 'Mosque in place of Babri stuck, BJP leader Vinay Katiyar stirs row, questions need for one in Ayodhya',\n",
       " 'Who is Balwant Singh Rajoana? Why has he been on death row for 15 years?',\n",
       " '‘You yourself as captain have not scored runs!’: Gavaskar lambasts Suryakumar, questions his form amid team’s batting-order experimentation',\n",
       " 'Over 70 detained after ‘communal’ conflict turns violent in Gujarat’s Gandhinagar ‘over WhatsApp statuses’',\n",
       " \"Rujuta Diwekar questions the widely popular fibre first, followed by protein and carbs diet narrative: 'Who is telling them all this'\",\n",
       " \"'NOT ALLOWED TO SAY GOODBYE'\",\n",
       " 'Punjabi grandmother deported from US after 30 years',\n",
       " \"Won't push for further take down of content, Adani Enterprises tells HC\",\n",
       " 'UPSC KEY',\n",
       " 'Ladakh protests, Climate action plan, and Super Typhoon Ragasa',\n",
       " 'EXPRESS EXPLAINED',\n",
       " 'Can be launched from a train: Why Agni-P missile successful test is significant',\n",
       " 'HEALTH AND WELLNESS',\n",
       " 'Salman Khan details pain of battling trigeminal neuralgia: Neurologist explains']"
      ]
     },
     "execution_count": 44,
     "metadata": {},
     "output_type": "execute_result"
    }
   ],
   "source": [
    "headlines = driver.find_element(By.XPATH,HEADLINE_FUllXPATH)\n",
    "top = headlines.find_element(By.XPATH, \"./div[1]\").text.split(\"\\n\")\n",
    "latest = headlines.find_element(By.XPATH, \"./div[2]\").text.split(\"\\n\")\n",
    "temp = []\n",
    "for i in range(0,len(top)):\n",
    "    if top[i].isupper():\n",
    "            continue\n",
    "    temp.append(top[i])"
   ]
  },
  {
   "cell_type": "code",
   "execution_count": 46,
   "id": "17fc8c83-8ce9-4e64-a320-3f177d4ea277",
   "metadata": {},
   "outputs": [
    {
     "data": {
      "text/plain": [
       "['LATEST NEWS',\n",
       " 'Dhanashree Verma responds to claims she demanded mammoth alimony from ex-husband Yuzvendra Chahal: ‘Why did he do it?’',\n",
       " \"M A Baby writes: Communists would be happy with atmanirbharta. GST reforms don't achieve it\",\n",
       " \"Apple addresses iPhone 17 'scratchgate' controversy: Here's what happened\",\n",
       " 'When Moushumi Chatterjee refused to shoot a bathing scene with 54-year-old Raaj Kumar: ‘If your wig comes off, who will you hold?’',\n",
       " \"Kajol shares Ajay Devgn's morning routine\",\n",
       " \"Rani Mukerji wears daughter Adira's name on gold chain, stuns in a Sabyasachi sari at 71st National Film Awards\",\n",
       " 'Amitabh Bachchan’s father almost named him ‘Inquilab’, reveals brother Ajitabh: ‘Adopted Bachchan surname to reject caste’',\n",
       " 'What is New Zealand’s ‘golden visa’ scheme: New rules, top 10 applicants by nationality, and more details',\n",
       " 'Alia Bhatt’s daughter Raha gets her own vanity van on set; it’s like a ‘temple’, reveals Mahesh Bhatt: ‘New-age heroines go to work, they’re parenting’',\n",
       " 'Salman Khan, 59, says he will have children, family will raise them',\n",
       " 'Anup Jalota says son got admission to Princeton university as wife was battling terminal illness: ‘He was always a topper, no trouble…’',\n",
       " 'White House asks US agencies to consider mass firings in case of government shutdown',\n",
       " 'Neurosurgeon says a simple blood test can predict brain diseases years before symptoms; here’s everything you need to know',\n",
       " 'US teen tortured 13-month-old daughter in ‘exorcism’ killing in 2008. He will be executed today',\n",
       " 'The relationship between PCOS and sleep',\n",
       " 'Beela Venkatesan, Tamil Nadu health secretary who led early Covid fight, dies at 55',\n",
       " 'School Assembly News Headlines (September 26): BCCI & PCB complaint to ICC, CDS extension & more']"
      ]
     },
     "execution_count": 46,
     "metadata": {},
     "output_type": "execute_result"
    }
   ],
   "source": []
  },
  {
   "cell_type": "code",
   "execution_count": 49,
   "id": "6b6ecce9-12ba-4d7a-9367-4e41a953954f",
   "metadata": {},
   "outputs": [
    {
     "name": "stdout",
     "output_type": "stream",
     "text": [
      "Saved 18 headlines to news_topheadlines.txt\n",
      "Saved 17 headlines to news_latestheadlines.txt\n"
     ]
    }
   ],
   "source": [
    "if temp:\n",
    "    save_to_file(temp, TOP_HEADLINES_OUTPUT_FILE ,\"TOP HEADLINES\")\n",
    "    print(f\"Saved {len(top)} headlines to {TOP_HEADLINES_OUTPUT_FILE}\")\n",
    "else:\n",
    "    print(\"No Top headlines found. Try updating the XPath for your chosen site.\")\n",
    "if latest:\n",
    "    save_to_file(latest[1:], LATEST_HEADLINES_OUTPUT_FILE,\"LATEST HEADLINES\")\n",
    "    print(f\"Saved {len(latest)-1} headlines to {LATEST_HEADLINES_OUTPUT_FILE}\")\n",
    "else:\n",
    "    print(\"No Latest headlines found. Try updating the XPath for your chosen site.\")\n",
    "driver.quit()"
   ]
  },
  {
   "cell_type": "code",
   "execution_count": null,
   "id": "46c037c2-108f-40cf-8fe2-b462bd06895e",
   "metadata": {},
   "outputs": [],
   "source": []
  }
 ],
 "metadata": {
  "kernelspec": {
   "display_name": "Python 3 (ipykernel)",
   "language": "python",
   "name": "python3"
  },
  "language_info": {
   "codemirror_mode": {
    "name": "ipython",
    "version": 3
   },
   "file_extension": ".py",
   "mimetype": "text/x-python",
   "name": "python",
   "nbconvert_exporter": "python",
   "pygments_lexer": "ipython3",
   "version": "3.13.5"
  }
 },
 "nbformat": 4,
 "nbformat_minor": 5
}
